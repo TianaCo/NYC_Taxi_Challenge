{
 "cells": [
  {
   "cell_type": "code",
   "execution_count": 1,
   "metadata": {
    "collapsed": true
   },
   "outputs": [],
   "source": [
    "import pandas as pd\n",
    "import numpy as np\n",
    "import datetime as dt\n",
    "import matplotlib.pyplot as plt\n",
    "%matplotlib inline\n",
    "import seaborn as sns\n",
    "from datetime import timedelta\n",
    "from pandas.io.gbq import read_gbq\n",
    "import geopandas as gpd\n",
    "import fiona\n",
    "import shapely\n",
    "import rtree\n",
    "import pylab as pl"
   ]
  },
  {
   "cell_type": "markdown",
   "metadata": {},
   "source": [
    "#### Using the NYC taxi data from the period before July 2016:\n",
    "\n",
    "#### Analysis questions:\n",
    "#### How would you assess the efficiency of aggregating rides within Astoria? From Astoria to Manhattan? From LaGuardia airport, through Astoria, to Manhattan and back?\n",
    "#### How does this compare to rides within Manhattan?\n",
    "#### Would you provide ride shares only within Astoria as new service or also between Astoria and Manhattan? Why?\n",
    "#### Would you launch Astoria service during all our hours of operation (24/7) or only for certain hours? If so - which hours?"
   ]
  },
  {
   "cell_type": "code",
   "execution_count": 4,
   "metadata": {
    "collapsed": true
   },
   "outputs": [],
   "source": [
    "#load NYC open data neighbourhood shapefile to find neighbourhoods\n",
    "\n",
    "hoods = gpd.GeoDataFrame.from_file(\"geojsondata/NYCneighbourhood.geojson\")"
   ]
  },
  {
   "cell_type": "code",
   "execution_count": 5,
   "metadata": {
    "collapsed": true
   },
   "outputs": [],
   "source": [
    "#setting crs and geometry of hoods dataframe\n",
    "\n",
    "hoods.crs = fiona.crs.from_epsg(4326)\n",
    "hoods = hoods.set_geometry('geometry')"
   ]
  },
  {
   "cell_type": "code",
   "execution_count": 6,
   "metadata": {},
   "outputs": [
    {
     "data": {
      "text/html": [
       "<div>\n",
       "<table border=\"1\" class=\"dataframe\">\n",
       "  <thead>\n",
       "    <tr style=\"text-align: right;\">\n",
       "      <th></th>\n",
       "      <th>@id</th>\n",
       "      <th>borough</th>\n",
       "      <th>boroughCode</th>\n",
       "      <th>geometry</th>\n",
       "      <th>neighborhood</th>\n",
       "    </tr>\n",
       "  </thead>\n",
       "  <tbody>\n",
       "    <tr>\n",
       "      <th>0</th>\n",
       "      <td>http://nyc.pediacities.com/Resource/Neighborho...</td>\n",
       "      <td>Bronx</td>\n",
       "      <td>2</td>\n",
       "      <td>POLYGON ((-73.84859700000018 40.87167000000012...</td>\n",
       "      <td>Allerton</td>\n",
       "    </tr>\n",
       "    <tr>\n",
       "      <th>1</th>\n",
       "      <td>http://nyc.pediacities.com/Resource/Neighborho...</td>\n",
       "      <td>Queens</td>\n",
       "      <td>4</td>\n",
       "      <td>POLYGON ((-73.74333268196389 40.7388830992604,...</td>\n",
       "      <td>Alley Pond Park</td>\n",
       "    </tr>\n",
       "    <tr>\n",
       "      <th>2</th>\n",
       "      <td>http://nyc.pediacities.com/Resource/Neighborho...</td>\n",
       "      <td>Staten Island</td>\n",
       "      <td>5</td>\n",
       "      <td>POLYGON ((-74.169827 40.56107800000017, -74.16...</td>\n",
       "      <td>Arden Heights</td>\n",
       "    </tr>\n",
       "    <tr>\n",
       "      <th>3</th>\n",
       "      <td>http://nyc.pediacities.com/Resource/Neighborho...</td>\n",
       "      <td>Staten Island</td>\n",
       "      <td>5</td>\n",
       "      <td>POLYGON ((-74.15974815874296 40.64141652579018...</td>\n",
       "      <td>Arlington</td>\n",
       "    </tr>\n",
       "    <tr>\n",
       "      <th>4</th>\n",
       "      <td>http://nyc.pediacities.com/Resource/Neighborho...</td>\n",
       "      <td>Staten Island</td>\n",
       "      <td>5</td>\n",
       "      <td>POLYGON ((-74.06077989345394 40.59318800468343...</td>\n",
       "      <td>Arrochar</td>\n",
       "    </tr>\n",
       "  </tbody>\n",
       "</table>\n",
       "</div>"
      ],
      "text/plain": [
       "                                                 @id        borough  \\\n",
       "0  http://nyc.pediacities.com/Resource/Neighborho...          Bronx   \n",
       "1  http://nyc.pediacities.com/Resource/Neighborho...         Queens   \n",
       "2  http://nyc.pediacities.com/Resource/Neighborho...  Staten Island   \n",
       "3  http://nyc.pediacities.com/Resource/Neighborho...  Staten Island   \n",
       "4  http://nyc.pediacities.com/Resource/Neighborho...  Staten Island   \n",
       "\n",
       "  boroughCode                                           geometry  \\\n",
       "0           2  POLYGON ((-73.84859700000018 40.87167000000012...   \n",
       "1           4  POLYGON ((-73.74333268196389 40.7388830992604,...   \n",
       "2           5  POLYGON ((-74.169827 40.56107800000017, -74.16...   \n",
       "3           5  POLYGON ((-74.15974815874296 40.64141652579018...   \n",
       "4           5  POLYGON ((-74.06077989345394 40.59318800468343...   \n",
       "\n",
       "      neighborhood  \n",
       "0         Allerton  \n",
       "1  Alley Pond Park  \n",
       "2    Arden Heights  \n",
       "3        Arlington  \n",
       "4         Arrochar  "
      ]
     },
     "execution_count": 6,
     "metadata": {},
     "output_type": "execute_result"
    }
   ],
   "source": [
    "hoods.head()"
   ]
  },
  {
   "cell_type": "code",
   "execution_count": 238,
   "metadata": {
    "collapsed": true
   },
   "outputs": [],
   "source": [
    "#finding relevant polygons for latitide/longitude analysis\n",
    "\n",
    "Astoria = hoods.loc[hoods['neighborhood']=='Astoria']\n",
    "Manhattan = hoods.loc[hoods['borough']=='Manhattan']\n",
    "LaGuardia = hoods.loc[hoods['neighborhood']=='LaGuardia Airport']"
   ]
  },
  {
   "cell_type": "code",
   "execution_count": 239,
   "metadata": {
    "collapsed": true
   },
   "outputs": [],
   "source": [
    "#concantenating into new, simplified geo dataframe \n",
    "\n",
    "relevant = [Astoria, LaGuardia, Manhattan]\n",
    "sub_hoods = pd.concat(relevant)\n",
    "sub_hoods.reset_index(drop=True, inplace=True)"
   ]
  },
  {
   "cell_type": "code",
   "execution_count": 240,
   "metadata": {
    "collapsed": true
   },
   "outputs": [],
   "source": [
    "#setting dataframe as Geopandas Dataframe, CRS type and geometry column\n",
    "\n",
    "sub_hoods = gpd.GeoDataFrame(sub_hoods)\n",
    "sub_hoods.crs = fiona.crs.from_epsg(4326)\n",
    "sub_hoods = sub_hoods.set_geometry('geometry')"
   ]
  },
  {
   "cell_type": "code",
   "execution_count": 241,
   "metadata": {},
   "outputs": [
    {
     "data": {
      "text/html": [
       "<div>\n",
       "<table border=\"1\" class=\"dataframe\">\n",
       "  <thead>\n",
       "    <tr style=\"text-align: right;\">\n",
       "      <th></th>\n",
       "      <th>@id</th>\n",
       "      <th>borough</th>\n",
       "      <th>boroughCode</th>\n",
       "      <th>geometry</th>\n",
       "      <th>neighborhood</th>\n",
       "    </tr>\n",
       "  </thead>\n",
       "  <tbody>\n",
       "    <tr>\n",
       "      <th>0</th>\n",
       "      <td>http://nyc.pediacities.com/Resource/Neighborho...</td>\n",
       "      <td>Queens</td>\n",
       "      <td>4</td>\n",
       "      <td>POLYGON ((-73.90160305064738 40.76777029715587...</td>\n",
       "      <td>Astoria</td>\n",
       "    </tr>\n",
       "    <tr>\n",
       "      <th>1</th>\n",
       "      <td>http://nyc.pediacities.com/Resource/Neighborho...</td>\n",
       "      <td>Queens</td>\n",
       "      <td>4</td>\n",
       "      <td>POLYGON ((-73.85960740237437 40.76272137770127...</td>\n",
       "      <td>LaGuardia Airport</td>\n",
       "    </tr>\n",
       "    <tr>\n",
       "      <th>2</th>\n",
       "      <td>http://nyc.pediacities.com/Resource/Neighborho...</td>\n",
       "      <td>Manhattan</td>\n",
       "      <td>1</td>\n",
       "      <td>POLYGON ((-74.01375400000018 40.71369, -74.014...</td>\n",
       "      <td>Battery Park City</td>\n",
       "    </tr>\n",
       "    <tr>\n",
       "      <th>3</th>\n",
       "      <td>http://nyc.pediacities.com/Resource/Neighborho...</td>\n",
       "      <td>Manhattan</td>\n",
       "      <td>1</td>\n",
       "      <td>POLYGON ((-73.94965699268657 40.79706872127114...</td>\n",
       "      <td>Central Park</td>\n",
       "    </tr>\n",
       "    <tr>\n",
       "      <th>4</th>\n",
       "      <td>http://nyc.pediacities.com/Resource/Neighborho...</td>\n",
       "      <td>Manhattan</td>\n",
       "      <td>1</td>\n",
       "      <td>POLYGON ((-73.99346400122367 40.75218999709955...</td>\n",
       "      <td>Chelsea</td>\n",
       "    </tr>\n",
       "  </tbody>\n",
       "</table>\n",
       "</div>"
      ],
      "text/plain": [
       "                                                 @id    borough boroughCode  \\\n",
       "0  http://nyc.pediacities.com/Resource/Neighborho...     Queens           4   \n",
       "1  http://nyc.pediacities.com/Resource/Neighborho...     Queens           4   \n",
       "2  http://nyc.pediacities.com/Resource/Neighborho...  Manhattan           1   \n",
       "3  http://nyc.pediacities.com/Resource/Neighborho...  Manhattan           1   \n",
       "4  http://nyc.pediacities.com/Resource/Neighborho...  Manhattan           1   \n",
       "\n",
       "                                            geometry       neighborhood  \n",
       "0  POLYGON ((-73.90160305064738 40.76777029715587...            Astoria  \n",
       "1  POLYGON ((-73.85960740237437 40.76272137770127...  LaGuardia Airport  \n",
       "2  POLYGON ((-74.01375400000018 40.71369, -74.014...  Battery Park City  \n",
       "3  POLYGON ((-73.94965699268657 40.79706872127114...       Central Park  \n",
       "4  POLYGON ((-73.99346400122367 40.75218999709955...            Chelsea  "
      ]
     },
     "execution_count": 241,
     "metadata": {},
     "output_type": "execute_result"
    }
   ],
   "source": [
    "sub_hoods.head()"
   ]
  },
  {
   "cell_type": "code",
   "execution_count": 457,
   "metadata": {},
   "outputs": [
    {
     "name": "stdout",
     "output_type": "stream",
     "text": [
      "Requesting query... ok.\n",
      "Query running...\n",
      "Query done.\n",
      "Cache hit.\n",
      "\n",
      "Retrieving results...\n",
      "  Got page: 2; 18.0% done. Elapsed 13.22 s.\n",
      "  Got page: 3; 26.0% done. Elapsed 19.47 s.\n",
      "  Got page: 4; 35.0% done. Elapsed 27.16 s.\n",
      "  Got page: 5; 44.0% done. Elapsed 34.59 s.\n",
      "  Got page: 6; 53.0% done. Elapsed 42.45 s.\n",
      "  Got page: 7; 61.0% done. Elapsed 50.58 s.\n",
      "  Got page: 8; 70.0% done. Elapsed 60.78 s.\n",
      "  Got page: 9; 79.0% done. Elapsed 67.76 s.\n",
      "  Got page: 10; 88.0% done. Elapsed 74.13 s.\n",
      "  Got page: 11; 96.0% done. Elapsed 80.72 s.\n",
      "  Got page: 12; 100.0% done. Elapsed 85.5 s.\n",
      "Got 500000 rows.\n",
      "\n",
      "Total time taken 115.43 s.\n",
      "Finished at 2017-05-29 19:03:27.\n"
     ]
    }
   ],
   "source": [
    "#SQL query of green taxis in 2015 inside astoria and laguardia lat/lon bounds, \n",
    "#this is to maximize targeted queries, limit 500,000\n",
    "\n",
    "project = \"spheric-crow-161317\"\n",
    "sample_query = \"SELECT pickup_datetime, dropoff_datetime, pickup_longitude, pickup_latitude, dropoff_longitude, dropoff_latitude, passenger_count, trip_distance  FROM `bigquery-public-data.new_york.tlc_green_trips_2015` WHERE (round(dropoff_longitude, 4) between -73.9444 and -73.8539 and round(dropoff_latitude, 4) between 40.4733 and 40.7908) or (round(pickup_longitude, 4) between -73.944 and -73.8539 and round(pickup_latitude, 4) between 40.4733 and 40.7908) LIMIT 500000\"\n",
    "         \n",
    "g_15_q = read_gbq(query=sample_query, project_id=project, dialect='standard')"
   ]
  },
  {
   "cell_type": "code",
   "execution_count": 444,
   "metadata": {},
   "outputs": [
    {
     "name": "stdout",
     "output_type": "stream",
     "text": [
      "Requesting query... ok.\n",
      "Query running...\n",
      "Query done.\n",
      "Cache hit.\n",
      "\n",
      "Retrieving results...\n",
      "  Got page: 1; 9.0% done. Elapsed 8.44 s.\n",
      "  Got page: 2; 18.0% done. Elapsed 17.68 s.\n",
      "  Got page: 3; 26.0% done. Elapsed 25.62 s.\n",
      "  Got page: 4; 35.0% done. Elapsed 32.23 s.\n",
      "  Got page: 5; 44.0% done. Elapsed 39.49 s.\n",
      "  Got page: 6; 53.0% done. Elapsed 46.04 s.\n",
      "  Got page: 7; 61.0% done. Elapsed 53.07 s.\n",
      "  Got page: 8; 70.0% done. Elapsed 59.83 s.\n",
      "  Got page: 9; 79.0% done. Elapsed 66.45 s.\n",
      "  Got page: 10; 88.0% done. Elapsed 75.08 s.\n",
      "  Got page: 11; 96.0% done. Elapsed 87.24 s.\n",
      "  Got page: 12; 100.0% done. Elapsed 91.34 s.\n",
      "Got 500000 rows.\n",
      "\n",
      "Total time taken 122.44 s.\n",
      "Finished at 2017-05-29 18:56:56.\n"
     ]
    }
   ],
   "source": [
    "#SQL query of yellow taxis in 2015 inside astoria and laguardia lat/lon bounds, \n",
    "#this is to maximize targeted queries, limit 500,000\n",
    "\n",
    "project = \"spheric-crow-161317\"\n",
    "sample_query = \"SELECT pickup_datetime, dropoff_datetime, pickup_longitude, pickup_latitude, dropoff_longitude, dropoff_latitude, passenger_count, trip_distance  FROM `bigquery-public-data.new_york.tlc_yellow_trips_2015` WHERE (round(dropoff_longitude, 4) between -73.9444 and -73.8539 and round(dropoff_latitude, 4) between 40.4733 and 40.7908) or (round(pickup_longitude, 4) between -73.944 and -73.8539 and round(pickup_latitude, 4) between 40.4733 and 40.7908) LIMIT 500000\"\n",
    "         \n",
    "y_15_q = read_gbq(query=sample_query, project_id=project, dialect='standard')"
   ]
  },
  {
   "cell_type": "code",
   "execution_count": 445,
   "metadata": {},
   "outputs": [
    {
     "name": "stdout",
     "output_type": "stream",
     "text": [
      "Requesting query... ok.\n",
      "Query running...\n",
      "Query done.\n",
      "Cache hit.\n",
      "\n",
      "Retrieving results...\n",
      "Got 10000 rows.\n",
      "\n",
      "Total time taken 5.45 s.\n",
      "Finished at 2017-05-29 18:57:05.\n"
     ]
    }
   ],
   "source": [
    "#SQL query of green taxis in 2015 inside Manhattan, Upper East Side lat/lon bounds, \n",
    "# this is to maximize targeted queries, limit 10,000\n",
    "\n",
    "project = \"spheric-crow-161317\"\n",
    "ues_query = \"SELECT pickup_datetime, dropoff_datetime, pickup_longitude, pickup_latitude, dropoff_longitude, dropoff_latitude, passenger_count, trip_distance  FROM `bigquery-public-data.new_york.tlc_green_trips_2015` WHERE (round(dropoff_longitude, 4) between -73.9727 and -73.9435 and round(dropoff_latitude, 4) between 40.7608 and 40.7821) or (round(pickup_longitude, 4) between -73.9727 and -73.9435 and round(pickup_latitude, 4) between 40.7608 and 40.7821) LIMIT 10000\"\n",
    "         \n",
    "g_15_ues = read_gbq(query=ues_query, project_id=project, dialect='standard')"
   ]
  },
  {
   "cell_type": "code",
   "execution_count": 446,
   "metadata": {},
   "outputs": [
    {
     "name": "stdout",
     "output_type": "stream",
     "text": [
      "Requesting query... ok.\n",
      "Query running...\n",
      "Query done.\n",
      "Cache hit.\n",
      "\n",
      "Retrieving results...\n",
      "Got 10000 rows.\n",
      "\n",
      "Total time taken 4.84 s.\n",
      "Finished at 2017-05-29 18:57:13.\n"
     ]
    }
   ],
   "source": [
    "#UES Yellow Taxi 2015 query\n",
    "\n",
    "project = \"spheric-crow-161317\"\n",
    "ues_query = \"SELECT pickup_datetime, dropoff_datetime, pickup_longitude, pickup_latitude, dropoff_longitude, dropoff_latitude, passenger_count, trip_distance  FROM `bigquery-public-data.new_york.tlc_yellow_trips_2015` WHERE (round(dropoff_longitude, 4) between -73.9727 and -73.9435 and round(dropoff_latitude, 4) between 40.7608 and 40.7821) or (round(pickup_longitude, 4) between -73.9727 and -73.9435 and round(pickup_latitude, 4) between 40.7608 and 40.7821) LIMIT 10000\"\n",
    "         \n",
    "y_15_ues = read_gbq(query=ues_query, project_id=project, dialect='standard')"
   ]
  },
  {
   "cell_type": "code",
   "execution_count": 447,
   "metadata": {},
   "outputs": [
    {
     "name": "stdout",
     "output_type": "stream",
     "text": [
      "Requesting query... ok.\n",
      "Query running...\n",
      "Query done.\n",
      "Cache hit.\n",
      "\n",
      "Retrieving results...\n",
      "Got 20000 rows.\n",
      "\n",
      "Total time taken 7.19 s.\n",
      "Finished at 2017-05-29 18:57:24.\n"
     ]
    }
   ],
   "source": [
    "#green 2015 midtown query, limit 20000\n",
    "\n",
    "project = \"spheric-crow-161317\"\n",
    "mid_query = \"SELECT pickup_datetime, dropoff_datetime, pickup_longitude, pickup_latitude, dropoff_longitude, dropoff_latitude, passenger_count, trip_distance  FROM `bigquery-public-data.new_york.tlc_green_trips_2015` WHERE (round(dropoff_longitude, 4) between -74.0096 and -73.9623 and round(dropoff_latitude, 4) between 40.7390 and 40.7659) or (round(pickup_longitude, 4) between -74.0096 and -73.9623 and round(pickup_latitude, 4) between 40.7390 and 40.7659) LIMIT 20000\"\n",
    "\n",
    "g_15_mid = read_gbq(query=mid_query, project_id=project, dialect='standard')"
   ]
  },
  {
   "cell_type": "code",
   "execution_count": 448,
   "metadata": {},
   "outputs": [
    {
     "name": "stdout",
     "output_type": "stream",
     "text": [
      "Requesting query... ok.\n",
      "Query running...\n",
      "Query done.\n",
      "Cache hit.\n",
      "\n",
      "Retrieving results...\n",
      "Got 20000 rows.\n",
      "\n",
      "Total time taken 6.68 s.\n",
      "Finished at 2017-05-29 18:57:33.\n"
     ]
    }
   ],
   "source": [
    "#yellow 2015 midtown query, limit 20000\n",
    "\n",
    "project = \"spheric-crow-161317\"\n",
    "mid_query = \"SELECT pickup_datetime, dropoff_datetime, pickup_longitude, pickup_latitude, dropoff_longitude, dropoff_latitude, passenger_count, trip_distance  FROM `bigquery-public-data.new_york.tlc_yellow_trips_2015` WHERE (round(dropoff_longitude, 4) between -74.0096 and -73.9623 and round(dropoff_latitude, 4) between 40.7390 and 40.7659) or (round(pickup_longitude, 4) between -74.0096 and -73.9623 and round(pickup_latitude, 4) between 40.7390 and 40.7659) LIMIT 20000\"\n",
    "\n",
    "y_15_mid = read_gbq(query=mid_query, project_id=project, dialect='standard')"
   ]
  },
  {
   "cell_type": "code",
   "execution_count": 521,
   "metadata": {
    "collapsed": true
   },
   "outputs": [],
   "source": [
    "#combining Manhattan queries by taxi color, adding a column to indicate taxi color, \n",
    "#combining into Manhattan 2015 dataframe with 60,000 entries\n",
    "\n",
    "man_y_15 = pd.concat([y_15_mid, y_15_ues])\n",
    "man_g_15 = pd.concat([g_15_mid, g_15_ues])\n",
    "man_y_15['color'] = 'y'\n",
    "man_g_15['color'] = 'g'\n",
    "man_15 = pd.concat([man_y_15, man_g_15])\n",
    "man_15 = man_15.reset_index(drop=True)"
   ]
  },
  {
   "cell_type": "code",
   "execution_count": 453,
   "metadata": {
    "collapsed": true
   },
   "outputs": [],
   "source": [
    "#distance on earth based on longitude and latitude\n",
    "#I pulled this from stack overflow, but converted to miles: https://stackoverflow.com/questions/15736995/how-can-i-quickly-estimate-the-distance-between-two-latitude-longitude-points\n",
    "\n",
    "def haversine(lon1, lat1, lon2, lat2):\n",
    "    # convert decimal degrees to radians \n",
    "    lon1, lat1, lon2, lat2 = map(radians, [lon1, lat1, lon2, lat2])\n",
    "    # haversine formula \n",
    "    dlon = lon2 - lon1 \n",
    "    dlat = lat2 - lat1 \n",
    "    a = sin(dlat/2)**2 + cos(lat1) * cos(lat2) * sin(dlon/2)**2\n",
    "    c = 2 * asin(sqrt(a)) \n",
    "    km = 6367 * c\n",
    "    mi = km * 0.621371\n",
    "    return mi"
   ]
  },
  {
   "cell_type": "code",
   "execution_count": 473,
   "metadata": {
    "collapsed": true
   },
   "outputs": [],
   "source": [
    "#this function calculates the distance between the pickup and dropoff location\n",
    "#appends it to the dataframe as a column \n",
    "#calculates the difference between the optimal and actual distance and \n",
    "#appends to the dataframe as a column\n",
    "\n",
    "def distance_func(j):\n",
    "    listj = []\n",
    "    for z in range(len(j)):\n",
    "        i=0\n",
    "        i = haversine(j['pickup_longitude'][z], j['pickup_latitude'][z], j['dropoff_longitude'][z], j['dropoff_latitude'][z])\n",
    "        listj.append(i)\n",
    "    j['optimal_distance'] = listj\n",
    "    j['distance_difference'] = j['trip_distance'] - j['optimal_distance']\n",
    "    return j"
   ]
  },
  {
   "cell_type": "code",
   "execution_count": 474,
   "metadata": {
    "collapsed": true
   },
   "outputs": [],
   "source": [
    "g_15_q = distance_func(g_15_q)\n",
    "y_15_q = distance_func(y_15_q)\n",
    "man_15 = distance_func(man_15)"
   ]
  },
  {
   "cell_type": "code",
   "execution_count": 478,
   "metadata": {
    "collapsed": true
   },
   "outputs": [],
   "source": [
    "#function creating shapely geo point in queried dataframe,\n",
    "#returning as geo dataframe with defined CRS\n",
    "\n",
    "def geopoints(j):\n",
    "    j.dropna(axis=0, subset=['pickup_latitude','pickup_longitude'], inplace=True)\n",
    "    j['pickup_lonlat'] = zip(j.pickup_longitude, j.pickup_latitude)\n",
    "    j['dropoff_lonlat'] = zip(j.dropoff_longitude, j.dropoff_latitude)\n",
    "    j['pickup_geometry'] = j[['pickup_lonlat']].applymap(lambda x:shapely.geometry.Point(x))\n",
    "    j['dropoff_geometry'] = j[['dropoff_lonlat']].applymap(lambda x:shapely.geometry.Point(x))\n",
    "    j = gpd.GeoDataFrame(j)\n",
    "    j.crs = fiona.crs.from_epsg(4326)\n",
    "    return j"
   ]
  },
  {
   "cell_type": "code",
   "execution_count": 479,
   "metadata": {
    "collapsed": true
   },
   "outputs": [],
   "source": [
    "g_15_q = geopoints(g_15_q)\n",
    "y_15_q = geopoints(y_15_q)\n",
    "man_15 = geopoints(man_15)"
   ]
  },
  {
   "cell_type": "code",
   "execution_count": 526,
   "metadata": {
    "collapsed": true
   },
   "outputs": [],
   "source": [
    "#rearrange columns for later use in function\n",
    "\n",
    "man_15 = man_15[[u'pickup_datetime', u'dropoff_datetime', u'pickup_longitude',\n",
    "       u'pickup_latitude', u'dropoff_longitude', u'dropoff_latitude',\n",
    "       u'passenger_count', u'trip_distance', u'optimal_distance',\n",
    "       u'distance_difference', u'pickup_lonlat', u'dropoff_lonlat',\n",
    "       u'pickup_geometry', u'dropoff_geometry', u'color']]"
   ]
  },
  {
   "cell_type": "code",
   "execution_count": 488,
   "metadata": {
    "collapsed": true
   },
   "outputs": [],
   "source": [
    "#function putting pickup geometry into a new dataframes, setting it as GeoDataFrame \n",
    "#setting their CRS, column names & geometry \n",
    "#this function returns a dataframe, with the pickup neighbourhoods and boroughs\n",
    "\n",
    "def geopointpickup(j):\n",
    "    df_pickup = j['pickup_geometry'].to_frame()\n",
    "    df_pickup = gpd.GeoDataFrame(df_pickup)\n",
    "    df_pickup.crs = fiona.crs.from_epsg(4326)\n",
    "    df_pickup.columns.values[0] = 'geometry'\n",
    "    df_pickup = df_pickup.set_geometry('geometry')\n",
    "    pickup_hood = gpd.sjoin(df_pickup, sub_hoods, how=\"left\", op=\"intersects\")\n",
    "    bye = [1,2,4]\n",
    "    pickup_hood = pickup_hood.drop(pickup_hood.columns[bye],axis=1)\n",
    "    pickup_hood.columns = ['pickup_geometry', 'pickup_borough','pickup_hood']\n",
    "    return pickup_hood"
   ]
  },
  {
   "cell_type": "code",
   "execution_count": 487,
   "metadata": {
    "collapsed": true
   },
   "outputs": [],
   "source": [
    "#dropoff version of the above function\n",
    "\n",
    "def geopointdropoff(j):\n",
    "    df_dropoff = j['dropoff_geometry'].to_frame()\n",
    "    df_dropoff = gpd.GeoDataFrame(df_dropoff)\n",
    "    df_dropoff.crs = fiona.crs.from_epsg(4326)\n",
    "    df_dropoff.columns.values[0] = 'geometry'\n",
    "    df_dropoff = df_dropoff.set_geometry('geometry')\n",
    "    dropoff_hood = gpd.sjoin(df_dropoff, sub_hoods, how=\"left\", op=\"intersects\")\n",
    "    bye = [1,2,4]\n",
    "    dropoff_hood = dropoff_hood.drop(dropoff_hood.columns[bye],axis=1)\n",
    "    dropoff_hood.columns = ['dropoff_geometry', 'dropoff_borough','dropoff_hood']\n",
    "    return dropoff_hood"
   ]
  },
  {
   "cell_type": "code",
   "execution_count": 489,
   "metadata": {
    "collapsed": true
   },
   "outputs": [],
   "source": [
    "pickup_hood_g = geopointpickup(g_15_q)\n",
    "dropoff_hood_g = geopointdropoff(g_15_q)"
   ]
  },
  {
   "cell_type": "code",
   "execution_count": 490,
   "metadata": {
    "collapsed": true
   },
   "outputs": [],
   "source": [
    "pickup_hood_y = geopointpickup(y_15_q)\n",
    "dropoff_hood_y = geopointdropoff(y_15_q)"
   ]
  },
  {
   "cell_type": "code",
   "execution_count": 527,
   "metadata": {
    "collapsed": true
   },
   "outputs": [],
   "source": [
    "pickup_hood_m = geopointpickup(man_15)\n",
    "dropoff_hood_m = geopointdropoff(man_15)"
   ]
  },
  {
   "cell_type": "code",
   "execution_count": 506,
   "metadata": {
    "collapsed": true
   },
   "outputs": [],
   "source": [
    "def drop_concat(j, pickup_hood, dropoff_hood):\n",
    "    bye2 = [2,3,4,5,10,11,12,13]\n",
    "    j = j.drop(j.columns[bye2],axis=1) \n",
    "    j = pd.concat([j, pickup_hood, dropoff_hood], axis=1, join_axes=[j.index])\n",
    "    j = j.dropna()\n",
    "    j = j.reset_index(drop=True)\n",
    "    return j"
   ]
  },
  {
   "cell_type": "code",
   "execution_count": 496,
   "metadata": {
    "collapsed": true
   },
   "outputs": [],
   "source": [
    "g_15_q = drop_concat(g_15_q, pickup_hood_g, dropoff_hood_g)"
   ]
  },
  {
   "cell_type": "code",
   "execution_count": 497,
   "metadata": {
    "collapsed": true
   },
   "outputs": [],
   "source": [
    "y_15_q = drop_concat(y_15_q, pickup_hood_y, dropoff_hood_y)"
   ]
  },
  {
   "cell_type": "code",
   "execution_count": 528,
   "metadata": {
    "collapsed": true
   },
   "outputs": [],
   "source": [
    "man_15 = drop_concat(man_15, pickup_hood_m, dropoff_hood_m)"
   ]
  },
  {
   "cell_type": "code",
   "execution_count": 530,
   "metadata": {
    "collapsed": true
   },
   "outputs": [],
   "source": [
    "#rearranging columns for later use\n",
    "\n",
    "man_15 = man_15[[u'pickup_datetime', u'dropoff_datetime', u'passenger_count',\n",
    "       u'trip_distance', u'optimal_distance', u'distance_difference',\n",
    "       u'pickup_geometry', u'pickup_borough', u'pickup_hood',\n",
    "       u'dropoff_geometry', u'dropoff_borough', u'dropoff_hood', u'color']]"
   ]
  },
  {
   "cell_type": "code",
   "execution_count": 258,
   "metadata": {
    "scrolled": true
   },
   "outputs": [
    {
     "name": "stdout",
     "output_type": "stream",
     "text": [
      "<class 'geopandas.geodataframe.GeoDataFrame'>\n",
      "Int64Index: 50457 entries, 4 to 499998\n",
      "Data columns (total 10 columns):\n",
      "pickup_datetime     50457 non-null datetime64[ns]\n",
      "dropoff_datetime    50457 non-null datetime64[ns]\n",
      "passenger_count     50457 non-null int64\n",
      "trip_distance       50457 non-null float64\n",
      "pickup_geometry     50457 non-null object\n",
      "pickup_borough      50457 non-null object\n",
      "pickup_hood         50457 non-null object\n",
      "dropoff_geometry    50457 non-null object\n",
      "dropoff_borough     50457 non-null object\n",
      "dropoff_hood        50457 non-null object\n",
      "dtypes: datetime64[ns](2), float64(1), int64(1), object(6)\n",
      "memory usage: 4.2+ MB\n"
     ]
    }
   ],
   "source": [
    "#we've lost the most values from the Queens green taxi query ~90%\n",
    "#I'm guessing most rides to and from Astoria/LaGuardia \n",
    "#don't go to Manhattan or stay in the area\n",
    "\n",
    "g_15_q.info()"
   ]
  },
  {
   "cell_type": "code",
   "execution_count": 286,
   "metadata": {},
   "outputs": [
    {
     "name": "stdout",
     "output_type": "stream",
     "text": [
      "<class 'geopandas.geodataframe.GeoDataFrame'>\n",
      "Int64Index: 250332 entries, 0 to 499999\n",
      "Data columns (total 10 columns):\n",
      "pickup_datetime     250332 non-null datetime64[ns]\n",
      "dropoff_datetime    250332 non-null datetime64[ns]\n",
      "passenger_count     250332 non-null int64\n",
      "trip_distance       250332 non-null float64\n",
      "pickup_geometry     250332 non-null object\n",
      "pickup_borough      250332 non-null object\n",
      "pickup_hood         250332 non-null object\n",
      "dropoff_geometry    250332 non-null object\n",
      "dropoff_borough     250332 non-null object\n",
      "dropoff_hood        250332 non-null object\n",
      "dtypes: datetime64[ns](2), float64(1), int64(1), object(6)\n",
      "memory usage: 21.0+ MB\n"
     ]
    }
   ],
   "source": [
    "#we only lost about half of the queens yellow taxi query\n",
    "#yellow taxis make more trips in and around Manhattan-Astoria/Laguardia than green taxis\n",
    "\n",
    "y_15_q.info()"
   ]
  },
  {
   "cell_type": "code",
   "execution_count": 532,
   "metadata": {},
   "outputs": [
    {
     "name": "stdout",
     "output_type": "stream",
     "text": [
      "<class 'pandas.core.frame.DataFrame'>\n",
      "RangeIndex: 45216 entries, 0 to 45215\n",
      "Data columns (total 13 columns):\n",
      "pickup_datetime        45216 non-null datetime64[ns]\n",
      "dropoff_datetime       45216 non-null datetime64[ns]\n",
      "passenger_count        45216 non-null int64\n",
      "trip_distance          45216 non-null float64\n",
      "optimal_distance       45216 non-null float64\n",
      "distance_difference    45216 non-null float64\n",
      "pickup_geometry        45216 non-null object\n",
      "pickup_borough         45216 non-null object\n",
      "pickup_hood            45216 non-null object\n",
      "dropoff_geometry       45216 non-null object\n",
      "dropoff_borough        45216 non-null object\n",
      "dropoff_hood           45216 non-null object\n",
      "color                  45216 non-null object\n",
      "dtypes: datetime64[ns](2), float64(3), int64(1), object(7)\n",
      "memory usage: 4.5+ MB\n"
     ]
    }
   ],
   "source": [
    "#we kept 75% of the Manhattan query\n",
    "#Manhattan is, after all, the most popular destination in NYC\n",
    "\n",
    "man_15.info()"
   ]
  },
  {
   "cell_type": "code",
   "execution_count": 509,
   "metadata": {
    "collapsed": true
   },
   "outputs": [],
   "source": [
    "#making full queens 2015 dataframe with column that indicates yellow or green taxis\n",
    "\n",
    "y_15_q['color'] = 'y'\n",
    "g_15_q['color'] = 'g'\n",
    "que_15= pd.concat([y_15_q, g_15_q])\n",
    "que_15 = que_15.reset_index(drop=True)"
   ]
  },
  {
   "cell_type": "code",
   "execution_count": 534,
   "metadata": {
    "collapsed": true
   },
   "outputs": [],
   "source": [
    "#making full NYC dataframe\n",
    "\n",
    "nyc_15 = pd.concat([que_15, man_15])\n",
    "nyc_15 = nyc_15.reset_index(drop=True)"
   ]
  },
  {
   "cell_type": "code",
   "execution_count": 536,
   "metadata": {
    "collapsed": true
   },
   "outputs": [],
   "source": [
    "#finding length of ride in timedelta and seconds\n",
    "\n",
    "def time_sec(j):\n",
    "    j[\"time\"] = j['dropoff_datetime'] - j['pickup_datetime']\n",
    "    j['seconds']=j['time'].dt.total_seconds()"
   ]
  },
  {
   "cell_type": "code",
   "execution_count": 540,
   "metadata": {
    "collapsed": true
   },
   "outputs": [],
   "source": [
    "time_sec(nyc_15)"
   ]
  },
  {
   "cell_type": "code",
   "execution_count": 555,
   "metadata": {},
   "outputs": [
    {
     "data": {
      "text/html": [
       "<div>\n",
       "<table border=\"1\" class=\"dataframe\">\n",
       "  <thead>\n",
       "    <tr style=\"text-align: right;\">\n",
       "      <th></th>\n",
       "      <th>pickup_datetime</th>\n",
       "      <th>dropoff_datetime</th>\n",
       "      <th>passenger_count</th>\n",
       "      <th>trip_distance</th>\n",
       "      <th>optimal_distance</th>\n",
       "      <th>distance_difference</th>\n",
       "      <th>pickup_geometry</th>\n",
       "      <th>pickup_borough</th>\n",
       "      <th>pickup_hood</th>\n",
       "      <th>dropoff_geometry</th>\n",
       "      <th>dropoff_borough</th>\n",
       "      <th>dropoff_hood</th>\n",
       "      <th>color</th>\n",
       "      <th>time</th>\n",
       "      <th>seconds</th>\n",
       "    </tr>\n",
       "  </thead>\n",
       "  <tbody>\n",
       "    <tr>\n",
       "      <th>169758</th>\n",
       "      <td>2015-05-28 07:41:07</td>\n",
       "      <td>2015-05-28 08:22:22</td>\n",
       "      <td>1</td>\n",
       "      <td>0.10</td>\n",
       "      <td>9.133284</td>\n",
       "      <td>-9.033284</td>\n",
       "      <td>POINT (-74.01726531982422 40.70522689819336)</td>\n",
       "      <td>Manhattan</td>\n",
       "      <td>Battery Park City</td>\n",
       "      <td>POINT (-73.86582946777344 40.77102661132812)</td>\n",
       "      <td>Queens</td>\n",
       "      <td>LaGuardia Airport</td>\n",
       "      <td>y</td>\n",
       "      <td>00:41:15</td>\n",
       "      <td>2475.0</td>\n",
       "    </tr>\n",
       "    <tr>\n",
       "      <th>44565</th>\n",
       "      <td>2015-09-10 14:00:53</td>\n",
       "      <td>2015-09-10 14:32:01</td>\n",
       "      <td>1</td>\n",
       "      <td>0.00</td>\n",
       "      <td>8.793494</td>\n",
       "      <td>-8.793494</td>\n",
       "      <td>POINT (-74.01158905029297 40.70280838012695)</td>\n",
       "      <td>Manhattan</td>\n",
       "      <td>Financial District</td>\n",
       "      <td>POINT (-73.87261962890625 40.77443695068359)</td>\n",
       "      <td>Queens</td>\n",
       "      <td>LaGuardia Airport</td>\n",
       "      <td>y</td>\n",
       "      <td>00:31:08</td>\n",
       "      <td>1868.0</td>\n",
       "    </tr>\n",
       "    <tr>\n",
       "      <th>193598</th>\n",
       "      <td>2015-03-23 14:01:54</td>\n",
       "      <td>2015-03-23 15:57:01</td>\n",
       "      <td>1</td>\n",
       "      <td>0.03</td>\n",
       "      <td>8.710319</td>\n",
       "      <td>-8.680319</td>\n",
       "      <td>POINT (-74.00736999511719 40.7052001953125)</td>\n",
       "      <td>Manhattan</td>\n",
       "      <td>Financial District</td>\n",
       "      <td>POINT (-73.86479187011719 40.77032852172852)</td>\n",
       "      <td>Queens</td>\n",
       "      <td>LaGuardia Airport</td>\n",
       "      <td>y</td>\n",
       "      <td>01:55:07</td>\n",
       "      <td>6907.0</td>\n",
       "    </tr>\n",
       "    <tr>\n",
       "      <th>245949</th>\n",
       "      <td>2015-01-21 10:58:26</td>\n",
       "      <td>2015-01-21 11:25:40</td>\n",
       "      <td>1</td>\n",
       "      <td>0.20</td>\n",
       "      <td>8.820529</td>\n",
       "      <td>-8.620529</td>\n",
       "      <td>POINT (-74.01387023925781 40.70661926269531)</td>\n",
       "      <td>Manhattan</td>\n",
       "      <td>Financial District</td>\n",
       "      <td>POINT (-73.86949920654297 40.77259063720703)</td>\n",
       "      <td>Queens</td>\n",
       "      <td>LaGuardia Airport</td>\n",
       "      <td>y</td>\n",
       "      <td>00:27:14</td>\n",
       "      <td>1634.0</td>\n",
       "    </tr>\n",
       "    <tr>\n",
       "      <th>132338</th>\n",
       "      <td>2015-03-28 07:08:38</td>\n",
       "      <td>2015-03-28 07:28:32</td>\n",
       "      <td>1</td>\n",
       "      <td>0.03</td>\n",
       "      <td>8.491658</td>\n",
       "      <td>-8.461658</td>\n",
       "      <td>POINT (-74.01031494140625 40.70973205566406)</td>\n",
       "      <td>Manhattan</td>\n",
       "      <td>Financial District</td>\n",
       "      <td>POINT (-73.87221527099609 40.77435302734375)</td>\n",
       "      <td>Queens</td>\n",
       "      <td>LaGuardia Airport</td>\n",
       "      <td>y</td>\n",
       "      <td>00:19:54</td>\n",
       "      <td>1194.0</td>\n",
       "    </tr>\n",
       "  </tbody>\n",
       "</table>\n",
       "</div>"
      ],
      "text/plain": [
       "           pickup_datetime    dropoff_datetime  passenger_count  \\\n",
       "169758 2015-05-28 07:41:07 2015-05-28 08:22:22                1   \n",
       "44565  2015-09-10 14:00:53 2015-09-10 14:32:01                1   \n",
       "193598 2015-03-23 14:01:54 2015-03-23 15:57:01                1   \n",
       "245949 2015-01-21 10:58:26 2015-01-21 11:25:40                1   \n",
       "132338 2015-03-28 07:08:38 2015-03-28 07:28:32                1   \n",
       "\n",
       "        trip_distance  optimal_distance  distance_difference  \\\n",
       "169758           0.10          9.133284            -9.033284   \n",
       "44565            0.00          8.793494            -8.793494   \n",
       "193598           0.03          8.710319            -8.680319   \n",
       "245949           0.20          8.820529            -8.620529   \n",
       "132338           0.03          8.491658            -8.461658   \n",
       "\n",
       "                                     pickup_geometry pickup_borough  \\\n",
       "169758  POINT (-74.01726531982422 40.70522689819336)      Manhattan   \n",
       "44565   POINT (-74.01158905029297 40.70280838012695)      Manhattan   \n",
       "193598   POINT (-74.00736999511719 40.7052001953125)      Manhattan   \n",
       "245949  POINT (-74.01387023925781 40.70661926269531)      Manhattan   \n",
       "132338  POINT (-74.01031494140625 40.70973205566406)      Manhattan   \n",
       "\n",
       "               pickup_hood                              dropoff_geometry  \\\n",
       "169758   Battery Park City  POINT (-73.86582946777344 40.77102661132812)   \n",
       "44565   Financial District  POINT (-73.87261962890625 40.77443695068359)   \n",
       "193598  Financial District  POINT (-73.86479187011719 40.77032852172852)   \n",
       "245949  Financial District  POINT (-73.86949920654297 40.77259063720703)   \n",
       "132338  Financial District  POINT (-73.87221527099609 40.77435302734375)   \n",
       "\n",
       "       dropoff_borough       dropoff_hood color     time  seconds  \n",
       "169758          Queens  LaGuardia Airport     y 00:41:15   2475.0  \n",
       "44565           Queens  LaGuardia Airport     y 00:31:08   1868.0  \n",
       "193598          Queens  LaGuardia Airport     y 01:55:07   6907.0  \n",
       "245949          Queens  LaGuardia Airport     y 00:27:14   1634.0  \n",
       "132338          Queens  LaGuardia Airport     y 00:19:54   1194.0  "
      ]
     },
     "execution_count": 555,
     "metadata": {},
     "output_type": "execute_result"
    }
   ],
   "source": [
    "#trying to get rid of bogus rows by looking at for negative differences in distance\n",
    "\n",
    "nyc_15.sort_values(by=\"distance_difference\", ascending=True, kind='quicksort').head()"
   ]
  },
  {
   "cell_type": "code",
   "execution_count": 575,
   "metadata": {},
   "outputs": [
    {
     "data": {
      "text/html": [
       "<div>\n",
       "<table border=\"1\" class=\"dataframe\">\n",
       "  <thead>\n",
       "    <tr style=\"text-align: right;\">\n",
       "      <th></th>\n",
       "      <th>pickup_datetime</th>\n",
       "      <th>dropoff_datetime</th>\n",
       "      <th>passenger_count</th>\n",
       "      <th>trip_distance</th>\n",
       "      <th>optimal_distance</th>\n",
       "      <th>distance_difference</th>\n",
       "      <th>pickup_geometry</th>\n",
       "      <th>pickup_borough</th>\n",
       "      <th>pickup_hood</th>\n",
       "      <th>dropoff_geometry</th>\n",
       "      <th>dropoff_borough</th>\n",
       "      <th>dropoff_hood</th>\n",
       "      <th>color</th>\n",
       "      <th>time</th>\n",
       "      <th>seconds</th>\n",
       "    </tr>\n",
       "  </thead>\n",
       "  <tbody>\n",
       "    <tr>\n",
       "      <th>168682</th>\n",
       "      <td>2015-11-01 01:57:29</td>\n",
       "      <td>2015-11-01 01:11:41</td>\n",
       "      <td>1</td>\n",
       "      <td>3.80</td>\n",
       "      <td>2.412243</td>\n",
       "      <td>1.387757</td>\n",
       "      <td>POINT (-73.97394561767578 40.75402450561523)</td>\n",
       "      <td>Manhattan</td>\n",
       "      <td>Midtown</td>\n",
       "      <td>POINT (-73.93179321289062 40.76820373535156)</td>\n",
       "      <td>Queens</td>\n",
       "      <td>Astoria</td>\n",
       "      <td>y</td>\n",
       "      <td>-1 days +23:14:12</td>\n",
       "      <td>-2748.0</td>\n",
       "    </tr>\n",
       "    <tr>\n",
       "      <th>336085</th>\n",
       "      <td>2015-11-01 01:44:12</td>\n",
       "      <td>2015-11-01 01:01:51</td>\n",
       "      <td>1</td>\n",
       "      <td>4.50</td>\n",
       "      <td>3.783228</td>\n",
       "      <td>0.716772</td>\n",
       "      <td>POINT (-73.95284271240234 40.7886848449707)</td>\n",
       "      <td>Manhattan</td>\n",
       "      <td>East Harlem</td>\n",
       "      <td>POINT (-73.99069213867188 40.74199295043945)</td>\n",
       "      <td>Manhattan</td>\n",
       "      <td>Flatiron District</td>\n",
       "      <td>g</td>\n",
       "      <td>-1 days +23:17:39</td>\n",
       "      <td>-2541.0</td>\n",
       "    </tr>\n",
       "    <tr>\n",
       "      <th>21265</th>\n",
       "      <td>2015-02-04 00:00:00</td>\n",
       "      <td>2015-02-04 00:00:00</td>\n",
       "      <td>1</td>\n",
       "      <td>10.27</td>\n",
       "      <td>5.931628</td>\n",
       "      <td>4.338372</td>\n",
       "      <td>POINT (-73.87315368652344 40.77402496337891)</td>\n",
       "      <td>Queens</td>\n",
       "      <td>LaGuardia Airport</td>\n",
       "      <td>POINT (-73.98488616943359 40.75925064086914)</td>\n",
       "      <td>Manhattan</td>\n",
       "      <td>Theater District</td>\n",
       "      <td>y</td>\n",
       "      <td>00:00:00</td>\n",
       "      <td>0.0</td>\n",
       "    </tr>\n",
       "    <tr>\n",
       "      <th>144517</th>\n",
       "      <td>2015-06-16 00:14:08</td>\n",
       "      <td>2015-06-16 00:14:08</td>\n",
       "      <td>1</td>\n",
       "      <td>19.20</td>\n",
       "      <td>7.687701</td>\n",
       "      <td>11.512299</td>\n",
       "      <td>POINT (-73.87194061279297 40.77412033081055)</td>\n",
       "      <td>Queens</td>\n",
       "      <td>LaGuardia Airport</td>\n",
       "      <td>POINT (-74.00328063964844 40.72416687011719)</td>\n",
       "      <td>Manhattan</td>\n",
       "      <td>SoHo</td>\n",
       "      <td>y</td>\n",
       "      <td>00:00:00</td>\n",
       "      <td>0.0</td>\n",
       "    </tr>\n",
       "    <tr>\n",
       "      <th>154792</th>\n",
       "      <td>2015-12-04 00:00:00</td>\n",
       "      <td>2015-12-04 00:00:00</td>\n",
       "      <td>1</td>\n",
       "      <td>13.39</td>\n",
       "      <td>5.948067</td>\n",
       "      <td>7.441933</td>\n",
       "      <td>POINT (-73.86628723144531 40.77131271362305)</td>\n",
       "      <td>Queens</td>\n",
       "      <td>LaGuardia Airport</td>\n",
       "      <td>POINT (-73.97960662841797 40.76392364501953)</td>\n",
       "      <td>Manhattan</td>\n",
       "      <td>Midtown</td>\n",
       "      <td>y</td>\n",
       "      <td>00:00:00</td>\n",
       "      <td>0.0</td>\n",
       "    </tr>\n",
       "  </tbody>\n",
       "</table>\n",
       "</div>"
      ],
      "text/plain": [
       "           pickup_datetime    dropoff_datetime  passenger_count  \\\n",
       "168682 2015-11-01 01:57:29 2015-11-01 01:11:41                1   \n",
       "336085 2015-11-01 01:44:12 2015-11-01 01:01:51                1   \n",
       "21265  2015-02-04 00:00:00 2015-02-04 00:00:00                1   \n",
       "144517 2015-06-16 00:14:08 2015-06-16 00:14:08                1   \n",
       "154792 2015-12-04 00:00:00 2015-12-04 00:00:00                1   \n",
       "\n",
       "        trip_distance  optimal_distance  distance_difference  \\\n",
       "168682           3.80          2.412243             1.387757   \n",
       "336085           4.50          3.783228             0.716772   \n",
       "21265           10.27          5.931628             4.338372   \n",
       "144517          19.20          7.687701            11.512299   \n",
       "154792          13.39          5.948067             7.441933   \n",
       "\n",
       "                                     pickup_geometry pickup_borough  \\\n",
       "168682  POINT (-73.97394561767578 40.75402450561523)      Manhattan   \n",
       "336085   POINT (-73.95284271240234 40.7886848449707)      Manhattan   \n",
       "21265   POINT (-73.87315368652344 40.77402496337891)         Queens   \n",
       "144517  POINT (-73.87194061279297 40.77412033081055)         Queens   \n",
       "154792  POINT (-73.86628723144531 40.77131271362305)         Queens   \n",
       "\n",
       "              pickup_hood                              dropoff_geometry  \\\n",
       "168682            Midtown  POINT (-73.93179321289062 40.76820373535156)   \n",
       "336085        East Harlem  POINT (-73.99069213867188 40.74199295043945)   \n",
       "21265   LaGuardia Airport  POINT (-73.98488616943359 40.75925064086914)   \n",
       "144517  LaGuardia Airport  POINT (-74.00328063964844 40.72416687011719)   \n",
       "154792  LaGuardia Airport  POINT (-73.97960662841797 40.76392364501953)   \n",
       "\n",
       "       dropoff_borough       dropoff_hood color              time  seconds  \n",
       "168682          Queens            Astoria     y -1 days +23:14:12  -2748.0  \n",
       "336085       Manhattan  Flatiron District     g -1 days +23:17:39  -2541.0  \n",
       "21265        Manhattan   Theater District     y          00:00:00      0.0  \n",
       "144517       Manhattan               SoHo     y          00:00:00      0.0  \n",
       "154792       Manhattan            Midtown     y          00:00:00      0.0  "
      ]
     },
     "execution_count": 575,
     "metadata": {},
     "output_type": "execute_result"
    }
   ],
   "source": [
    "#same for time... looking for trip lengths that are errors or don't make sense\n",
    "\n",
    "nyc_15.sort_values(by=\"seconds\", ascending=True, kind='quicksort').head()"
   ]
  },
  {
   "cell_type": "code",
   "execution_count": 562,
   "metadata": {
    "collapsed": true
   },
   "outputs": [],
   "source": [
    "#dropping rows where distance difference is less than or equal to zero\n",
    "#dropping trips under 2 minutes, they seem to be in error\n",
    "#resetting index\n",
    "\n",
    "nyc_15 = nyc_15.drop(nyc_15[nyc_15.distance_difference <= 0].index)\n",
    "nyc_15 = nyc_15.drop(nyc_15[nyc_15.seconds < 120].index)\n",
    "nyc_15 = nyc_15.reset_index(drop=True)"
   ]
  },
  {
   "cell_type": "code",
   "execution_count": 628,
   "metadata": {
    "collapsed": true
   },
   "outputs": [],
   "source": [
    "#Speed, Time and Distance are all measures of efficiency. We can deduce all of these\n",
    "#metrics from the dataframe. To find distance efficiency I'll divide ideal distance by\n",
    "#actual distance multiplied by the number of passengers\n",
    "#the best efficiency score is a 6 \n",
    "#higher numbers are better\n",
    "\n",
    "nyc_15['distance_efficiency'] = ((nyc_15['optimal_distance']/nyc_15['trip_distance'])*nyc_15['passenger_count']).round(decimals=2)"
   ]
  },
  {
   "cell_type": "code",
   "execution_count": 740,
   "metadata": {
    "collapsed": true
   },
   "outputs": [],
   "source": [
    "#Measuring time efficiency by dividing the optimal distance by 55 miles per second\n",
    "#(55 mph = max nyc speed limit on highways and = 0.0152778 miles per second) \n",
    "#then determining time efficiency by dividing the optimal seconds by the actual seconds \n",
    "#and multiplying by number of passengers 6 is the highest score\n",
    "\n",
    "nyc_15['opt_seconds'] = ((nyc_15['optimal_distance']/0.0152778))\n",
    "nyc_15['time_efficiency'] = ((nyc_15['opt_seconds']/nyc_15['seconds'])*nyc_15['passenger_count'])"
   ]
  },
  {
   "cell_type": "code",
   "execution_count": 741,
   "metadata": {},
   "outputs": [
    {
     "data": {
      "text/html": [
       "<div>\n",
       "<table border=\"1\" class=\"dataframe\">\n",
       "  <thead>\n",
       "    <tr style=\"text-align: right;\">\n",
       "      <th></th>\n",
       "      <th>pickup_datetime</th>\n",
       "      <th>dropoff_datetime</th>\n",
       "      <th>passenger_count</th>\n",
       "      <th>trip_distance</th>\n",
       "      <th>optimal_distance</th>\n",
       "      <th>distance_difference</th>\n",
       "      <th>pickup_geometry</th>\n",
       "      <th>pickup_borough</th>\n",
       "      <th>pickup_hood</th>\n",
       "      <th>dropoff_geometry</th>\n",
       "      <th>dropoff_borough</th>\n",
       "      <th>dropoff_hood</th>\n",
       "      <th>color</th>\n",
       "      <th>time</th>\n",
       "      <th>seconds</th>\n",
       "      <th>distance_efficiency</th>\n",
       "      <th>timestamp</th>\n",
       "      <th>hour</th>\n",
       "      <th>opt_seconds</th>\n",
       "      <th>time_efficiency</th>\n",
       "    </tr>\n",
       "  </thead>\n",
       "  <tbody>\n",
       "    <tr>\n",
       "      <th>0</th>\n",
       "      <td>2015-11-16 17:17:41</td>\n",
       "      <td>2015-11-16 17:22:23</td>\n",
       "      <td>1</td>\n",
       "      <td>0.69</td>\n",
       "      <td>0.419255</td>\n",
       "      <td>0.270745</td>\n",
       "      <td>POINT (-73.91494750976562 40.75708389282227)</td>\n",
       "      <td>Queens</td>\n",
       "      <td>Astoria</td>\n",
       "      <td>POINT (-73.92274475097656 40.75567626953125)</td>\n",
       "      <td>Queens</td>\n",
       "      <td>Astoria</td>\n",
       "      <td>y</td>\n",
       "      <td>00:04:42</td>\n",
       "      <td>282.0</td>\n",
       "      <td>0.61</td>\n",
       "      <td>2015-11-16 17:17:41</td>\n",
       "      <td>17</td>\n",
       "      <td>27.442116</td>\n",
       "      <td>0.097312</td>\n",
       "    </tr>\n",
       "    <tr>\n",
       "      <th>1</th>\n",
       "      <td>2015-12-06 01:08:19</td>\n",
       "      <td>2015-12-06 01:12:03</td>\n",
       "      <td>1</td>\n",
       "      <td>0.69</td>\n",
       "      <td>0.470044</td>\n",
       "      <td>0.219956</td>\n",
       "      <td>POINT (-73.94174194335938 40.78752517700195)</td>\n",
       "      <td>Manhattan</td>\n",
       "      <td>East Harlem</td>\n",
       "      <td>POINT (-73.95065307617188 40.78662109375)</td>\n",
       "      <td>Manhattan</td>\n",
       "      <td>East Harlem</td>\n",
       "      <td>y</td>\n",
       "      <td>00:03:44</td>\n",
       "      <td>224.0</td>\n",
       "      <td>0.68</td>\n",
       "      <td>2015-12-06 01:08:19</td>\n",
       "      <td>1</td>\n",
       "      <td>30.766442</td>\n",
       "      <td>0.137350</td>\n",
       "    </tr>\n",
       "    <tr>\n",
       "      <th>2</th>\n",
       "      <td>2015-03-15 11:41:26</td>\n",
       "      <td>2015-03-15 11:45:22</td>\n",
       "      <td>1</td>\n",
       "      <td>0.94</td>\n",
       "      <td>0.806225</td>\n",
       "      <td>0.133775</td>\n",
       "      <td>POINT (-73.94306945800781 40.78990173339844)</td>\n",
       "      <td>Manhattan</td>\n",
       "      <td>East Harlem</td>\n",
       "      <td>POINT (-73.95272827148438 40.78079986572266)</td>\n",
       "      <td>Manhattan</td>\n",
       "      <td>Upper East Side</td>\n",
       "      <td>y</td>\n",
       "      <td>00:03:56</td>\n",
       "      <td>236.0</td>\n",
       "      <td>0.86</td>\n",
       "      <td>2015-03-15 11:41:26</td>\n",
       "      <td>11</td>\n",
       "      <td>52.770982</td>\n",
       "      <td>0.223606</td>\n",
       "    </tr>\n",
       "    <tr>\n",
       "      <th>3</th>\n",
       "      <td>2015-03-25 12:46:19</td>\n",
       "      <td>2015-03-25 12:53:05</td>\n",
       "      <td>1</td>\n",
       "      <td>0.94</td>\n",
       "      <td>0.619433</td>\n",
       "      <td>0.320567</td>\n",
       "      <td>POINT (-73.95365142822266 40.77935791015625)</td>\n",
       "      <td>Manhattan</td>\n",
       "      <td>Upper East Side</td>\n",
       "      <td>POINT (-73.94387054443359 40.78442001342773)</td>\n",
       "      <td>Manhattan</td>\n",
       "      <td>East Harlem</td>\n",
       "      <td>y</td>\n",
       "      <td>00:06:46</td>\n",
       "      <td>406.0</td>\n",
       "      <td>0.66</td>\n",
       "      <td>2015-03-25 12:46:19</td>\n",
       "      <td>12</td>\n",
       "      <td>40.544640</td>\n",
       "      <td>0.099864</td>\n",
       "    </tr>\n",
       "    <tr>\n",
       "      <th>4</th>\n",
       "      <td>2015-04-25 18:02:02</td>\n",
       "      <td>2015-04-25 18:06:56</td>\n",
       "      <td>1</td>\n",
       "      <td>1.38</td>\n",
       "      <td>0.865029</td>\n",
       "      <td>0.514971</td>\n",
       "      <td>POINT (-73.95554351806641 40.77961730957031)</td>\n",
       "      <td>Manhattan</td>\n",
       "      <td>Upper East Side</td>\n",
       "      <td>POINT (-73.94214630126953 40.78696823120117)</td>\n",
       "      <td>Manhattan</td>\n",
       "      <td>East Harlem</td>\n",
       "      <td>y</td>\n",
       "      <td>00:04:54</td>\n",
       "      <td>294.0</td>\n",
       "      <td>0.63</td>\n",
       "      <td>2015-04-25 18:02:02</td>\n",
       "      <td>18</td>\n",
       "      <td>56.619989</td>\n",
       "      <td>0.192585</td>\n",
       "    </tr>\n",
       "  </tbody>\n",
       "</table>\n",
       "</div>"
      ],
      "text/plain": [
       "      pickup_datetime    dropoff_datetime  passenger_count  trip_distance  \\\n",
       "0 2015-11-16 17:17:41 2015-11-16 17:22:23                1           0.69   \n",
       "1 2015-12-06 01:08:19 2015-12-06 01:12:03                1           0.69   \n",
       "2 2015-03-15 11:41:26 2015-03-15 11:45:22                1           0.94   \n",
       "3 2015-03-25 12:46:19 2015-03-25 12:53:05                1           0.94   \n",
       "4 2015-04-25 18:02:02 2015-04-25 18:06:56                1           1.38   \n",
       "\n",
       "   optimal_distance  distance_difference  \\\n",
       "0          0.419255             0.270745   \n",
       "1          0.470044             0.219956   \n",
       "2          0.806225             0.133775   \n",
       "3          0.619433             0.320567   \n",
       "4          0.865029             0.514971   \n",
       "\n",
       "                                pickup_geometry pickup_borough  \\\n",
       "0  POINT (-73.91494750976562 40.75708389282227)         Queens   \n",
       "1  POINT (-73.94174194335938 40.78752517700195)      Manhattan   \n",
       "2  POINT (-73.94306945800781 40.78990173339844)      Manhattan   \n",
       "3  POINT (-73.95365142822266 40.77935791015625)      Manhattan   \n",
       "4  POINT (-73.95554351806641 40.77961730957031)      Manhattan   \n",
       "\n",
       "       pickup_hood                              dropoff_geometry  \\\n",
       "0          Astoria  POINT (-73.92274475097656 40.75567626953125)   \n",
       "1      East Harlem     POINT (-73.95065307617188 40.78662109375)   \n",
       "2      East Harlem  POINT (-73.95272827148438 40.78079986572266)   \n",
       "3  Upper East Side  POINT (-73.94387054443359 40.78442001342773)   \n",
       "4  Upper East Side  POINT (-73.94214630126953 40.78696823120117)   \n",
       "\n",
       "  dropoff_borough     dropoff_hood color     time  seconds  \\\n",
       "0          Queens          Astoria     y 00:04:42    282.0   \n",
       "1       Manhattan      East Harlem     y 00:03:44    224.0   \n",
       "2       Manhattan  Upper East Side     y 00:03:56    236.0   \n",
       "3       Manhattan      East Harlem     y 00:06:46    406.0   \n",
       "4       Manhattan      East Harlem     y 00:04:54    294.0   \n",
       "\n",
       "   distance_efficiency           timestamp  hour  opt_seconds  time_efficiency  \n",
       "0                 0.61 2015-11-16 17:17:41    17    27.442116         0.097312  \n",
       "1                 0.68 2015-12-06 01:08:19     1    30.766442         0.137350  \n",
       "2                 0.86 2015-03-15 11:41:26    11    52.770982         0.223606  \n",
       "3                 0.66 2015-03-25 12:46:19    12    40.544640         0.099864  \n",
       "4                 0.63 2015-04-25 18:02:02    18    56.619989         0.192585  "
      ]
     },
     "execution_count": 741,
     "metadata": {},
     "output_type": "execute_result"
    }
   ],
   "source": [
    "nyc_15.head()"
   ]
  },
  {
   "cell_type": "code",
   "execution_count": 732,
   "metadata": {
    "collapsed": true
   },
   "outputs": [],
   "source": [
    "#segmenting pickup/dropoff hoods\n",
    "\n",
    "AstoriaAstoria = nyc_15[(nyc_15.pickup_hood == \"Astoria\") & (nyc_15.pickup_hood == \"Astoria\")]\n",
    "AstoriaManhattan = nyc_15[(nyc_15.pickup_hood == \"Astoria\") & (nyc_15.dropoff_borough == \"Manhattan\")]\n",
    "ManhattanAstoria = nyc_15[(nyc_15.pickup_borough == \"Manhattan\") & (nyc_15.dropoff_hood == \"Astoria\")]\n",
    "LaGuardiaManhattan = nyc_15[(nyc_15.pickup_hood == \"LaGuardia Airport\") & (nyc_15.dropoff_borough == \"Manhattan\")]\n",
    "ManhattanLaGuardia = nyc_15[(nyc_15.pickup_borough == \"Manhattan\") & (nyc_15.dropoff_hood == \"LaGuardia Airport\")]\n",
    "Manhattan = nyc_15[(nyc_15.pickup_borough == \"Manhattan\") & (nyc_15.dropoff_borough == \"Manhattan\")]"
   ]
  },
  {
   "cell_type": "code",
   "execution_count": 733,
   "metadata": {},
   "outputs": [
    {
     "name": "stdout",
     "output_type": "stream",
     "text": [
      "Astoria-Astoria     distance efficiency: 1.05324448807\n",
      "Astoria-Manhattan   distance efficiency: 0.967497499643\n",
      "Manhattan-Astoria   distance efficiency: 1.06845787945\n",
      "LaGuardia-Manhattan distance efficiency: 1.0582277649\n",
      "Manhattan-LaGuardia distance efficiency: 1.01404122693\n",
      "Manhattan-Manhattan distance efficiency: 1.1976692365\n"
     ]
    }
   ],
   "source": [
    "#Within Manhattan and Manhattan to Astoria have the highest efficiency!\n",
    "#Within Astoria has almost the same efficiency as LaGuardia to Manhattan & Manhattan to Astoria\n",
    "#Astoria to Manhattan and Manhattan to LaGuardia have the lowest efficiency\n",
    "\n",
    "print \"Astoria-Astoria     distance efficiency: \" +str(AstoriaAstoria['distance_efficiency'].mean())\n",
    "print \"Astoria-Manhattan   distance efficiency: \" +str(AstoriaManhattan['distance_efficiency'].mean())\n",
    "print \"Manhattan-Astoria   distance efficiency: \" +str(ManhattanAstoria['distance_efficiency'].mean())\n",
    "print \"LaGuardia-Manhattan distance efficiency: \" +str(LaGuardiaManhattan['distance_efficiency'].mean())\n",
    "print \"Manhattan-LaGuardia distance efficiency: \" +str(ManhattanLaGuardia['distance_efficiency'].mean())\n",
    "print \"Manhattan-Manhattan distance efficiency: \" +str(Manhattan['distance_efficiency'].mean())"
   ]
  },
  {
   "cell_type": "code",
   "execution_count": 735,
   "metadata": {
    "collapsed": true
   },
   "outputs": [],
   "source": [
    "AAd = AstoriaAstoria['distance_efficiency'].mean()\n",
    "AMd = AstoriaManhattan['distance_efficiency'].mean()\n",
    "MAd = ManhattanAstoria['distance_efficiency'].mean()\n",
    "LMd = LaGuardiaManhattan['distance_efficiency'].mean()\n",
    "MLd = ManhattanLaGuardia['distance_efficiency'].mean()\n",
    "MMd = Manhattan['distance_efficiency'].mean()"
   ]
  },
  {
   "cell_type": "code",
   "execution_count": 737,
   "metadata": {},
   "outputs": [
    {
     "data": {
      "image/png": "[encoded data removed]",
      "text/plain": [
       "<matplotlib.figure.Figure at 0x1fc81bd90>"
      ]
     },
     "metadata": {},
     "output_type": "display_data"
    }
   ],
   "source": [
    "list10 = [(\"Astoria-Astoria\", AAd), (\"Astoria-Manhattan\", AMd), (\"Manhattan-Astoria\", MAd),\n",
    "         (\"LaGuardia-Manhattan\", LMd), (\"Manhattan-LaGuardia\", MLd), (\"Manhattan-Manhattan\", MMd)]\n",
    "labels, ys = zip(*list10)\n",
    "xs = np.arange(len(labels)) \n",
    "width = 1\n",
    "\n",
    "fig = plt.figure(figsize=(14,10), dpi=100)\n",
    "plt.bar(xs, ys, width, align='center', color=[\"skyblue\"])\n",
    "plt.title('Distance Efficiency')\n",
    "plt.xticks(xs, labels); "
   ]
  },
  {
   "cell_type": "code",
   "execution_count": 742,
   "metadata": {},
   "outputs": [
    {
     "name": "stdout",
     "output_type": "stream",
     "text": [
      "Astoria-Astoria     time efficiency: 0.24484451178\n",
      "Astoria-Manhattan   time efficiency: 0.254953148765\n",
      "Manhattan-Astoria   time efficiency: 0.30997131178\n",
      "LaGuardia-Manhattan time efficiency: 0.394857612002\n",
      "Manhattan-LaGuardia time efficiency: 0.432711342161\n",
      "Manhattan-Manhattan time efficiency: 0.266934294634\n"
     ]
    }
   ],
   "source": [
    "AstoriaAstoria2 = nyc_15[(nyc_15.pickup_hood == \"Astoria\") & (nyc_15.pickup_hood == \"Astoria\")]\n",
    "AstoriaManhattan2 = nyc_15[(nyc_15.pickup_hood == \"Astoria\") & (nyc_15.dropoff_borough == \"Manhattan\")]\n",
    "ManhattanAstoria2 = nyc_15[(nyc_15.pickup_borough == \"Manhattan\") & (nyc_15.dropoff_hood == \"Astoria\")]\n",
    "LaGuardiaManhattan2 = nyc_15[(nyc_15.pickup_hood == \"LaGuardia Airport\") & (nyc_15.dropoff_borough == \"Manhattan\")]\n",
    "ManhattanLaGuardia2 = nyc_15[(nyc_15.pickup_borough == \"Manhattan\") & (nyc_15.dropoff_hood == \"LaGuardia Airport\")]\n",
    "Manhattan2 = nyc_15[(nyc_15.pickup_borough == \"Manhattan\") & (nyc_15.dropoff_borough == \"Manhattan\")]\n",
    "\n",
    "print \"Astoria-Astoria     time efficiency: \" +str(AstoriaAstoria2['time_efficiency'].mean())\n",
    "print \"Astoria-Manhattan   time efficiency: \" +str(AstoriaManhattan2['time_efficiency'].mean())\n",
    "print \"Manhattan-Astoria   time efficiency: \" +str(ManhattanAstoria2['time_efficiency'].mean())\n",
    "print \"LaGuardia-Manhattan time efficiency: \" +str(LaGuardiaManhattan2['time_efficiency'].mean())\n",
    "print \"Manhattan-LaGuardia time efficiency: \" +str(ManhattanLaGuardia2['time_efficiency'].mean())\n",
    "print \"Manhattan-Manhattan time efficiency: \" +str(Manhattan2['time_efficiency'].mean())"
   ]
  },
  {
   "cell_type": "code",
   "execution_count": 743,
   "metadata": {
    "collapsed": true
   },
   "outputs": [],
   "source": [
    "AA = AstoriaAstoria2['time_efficiency'].mean()\n",
    "AM = AstoriaManhattan2['time_efficiency'].mean()\n",
    "MA = ManhattanAstoria2['time_efficiency'].mean()\n",
    "LM = LaGuardiaManhattan2['time_efficiency'].mean()\n",
    "ML = ManhattanLaGuardia2['time_efficiency'].mean()\n",
    "MM = Manhattan2['time_efficiency'].mean()"
   ]
  },
  {
   "cell_type": "code",
   "execution_count": 744,
   "metadata": {},
   "outputs": [
    {
     "data": {
      "image/png": "[encoded data removed]",
      "text/plain": [
       "<matplotlib.figure.Figure at 0x1fcab9f90>"
      ]
     },
     "metadata": {},
     "output_type": "display_data"
    }
   ],
   "source": [
    "list1 = [(\"Astoria-Astoria\", AA), (\"Astoria-Manhattan\", AM), (\"Manhattan-Astoria\", MA),\n",
    "         (\"LaGuardia-Manhattan\", LM), (\"Manhattan-LaGuardia\", ML), (\"Manhattan-Manhattan\", MM)]\n",
    "labels, ys = zip(*list1)\n",
    "xs = np.arange(len(labels)) \n",
    "width = 1\n",
    "\n",
    "fig = plt.figure(figsize=(14,10), dpi=100)\n",
    "plt.bar(xs, ys, width, align='center', color=[\"skyblue\"])\n",
    "plt.title('Time Efficiency')\n",
    "plt.xticks(xs, labels) #Replace default x-ticks with xs, then replace xs with labels\n",
    "plt.yticks(ys);"
   ]
  },
  {
   "cell_type": "code",
   "execution_count": 687,
   "metadata": {},
   "outputs": [
    {
     "data": {
      "image/png": "[encoded data removed]",
      "text/plain": [
       "<matplotlib.figure.Figure at 0x1c4324d10>"
      ]
     },
     "metadata": {},
     "output_type": "display_data"
    }
   ],
   "source": [
    "#overall service by hour of the day\n",
    "\n",
    "hours = nyc_15['pickup_datetime'].dt.hour\n",
    "hours.hist(bins = 24, color=[\"skyblue\"], figsize=[12,8]);"
   ]
  },
  {
   "cell_type": "code",
   "execution_count": 688,
   "metadata": {},
   "outputs": [
    {
     "data": {
      "image/png": "[encoded data removed]",
      "text/plain": [
       "<matplotlib.figure.Figure at 0x1c415d890>"
      ]
     },
     "metadata": {},
     "output_type": "display_data"
    }
   ],
   "source": [
    "#Manhattan-Manhattan Service by hour of day\n",
    "\n",
    "hours_m = Manhattan['pickup_datetime'].dt.hour\n",
    "hours_m.hist(bins = 24, color=[\"skyblue\"], figsize=[12,8]);"
   ]
  },
  {
   "cell_type": "code",
   "execution_count": 689,
   "metadata": {},
   "outputs": [
    {
     "data": {
      "image/png": "[encoded data removed]",
      "text/plain": [
       "<matplotlib.figure.Figure at 0x16f78b750>"
      ]
     },
     "metadata": {},
     "output_type": "display_data"
    }
   ],
   "source": [
    "#Astoria-Astoria service by hour of the day, fewer passengers than in Manhattan but ridership\n",
    "#is definitely more consistent and very popular in the evening and night from 6pm-1am\n",
    "\n",
    "hours_a = AstoriaAstoria['pickup_datetime'].dt.hour\n",
    "hours_a.hist(bins = 24, color=[\"skyblue\"], figsize=[12,8]);"
   ]
  },
  {
   "cell_type": "markdown",
   "metadata": {},
   "source": [
    "### Process and Questions:\n",
    "\n",
    "I queried 2 samples from the LaGuardia/Astoria area 500,000 each of yellow and green taxis in 2015. And then I took smaller samples from Manhattan in the Upper East Side and Midtown areas 30,000 each of yellow and green taxis. With cloud computing or more time, I would take larger queries from more years of data, or even analyze the entire dataset as a whole to understand the totality of taxi behaviour. But for our purposes, this is sufficient and can be run locally.\n",
    "\n",
    "I joined the SQL queries with NYC Open Data GeoJson shape files to eliminate rides in areas we weren’t interested in. Then I performed mathematical operations to determine efficiency, deleted errors, and subsetted the data into the geographical trips I was asked for\n",
    "\n",
    "#### How would you assess the efficiency of aggregating rides within Astoria? From Astoria to Manhattan? From LaGuardia airport, through Astoria, to Manhattan and back?\n",
    "\n",
    "#### How does this compare to rides within Manhattan?\n",
    "\n",
    "#### Would you provide ride shares only within Astoria as new service or also between Astoria and Manhattan? Why?\n",
    "\n",
    "#### Would you launch Astoria service during all our hours of operation (24/7) or only for certain hours? If so - which hours? \n",
    "\n",
    "The most distance-efficient place to aggregate rides is in Manhattan. But rides within Astoria, are still comparably distance-efficient, as are rides from Manhattan to Astoria and from LaGuardia to Manhattan. The least distance-efficient rides are from Manhattan to LaGuardia and Astoria to Manhattan.\n",
    "\n",
    "Rides within Astoria are the least time-efficient, probably that’s because when you’re riding within Astoria you’re not riding on highways and the speed limit on city streets is 25 mph.  The second least time efficient ride is from Astoria to Manhattan. They are much less efficient than rides from Manhattan to Astoria. I’d be interested in examining traffic patterns for this reason. There is probably more traffic getting into Manhattan than there is traffic getting into Astoria. Rides within Manhattan are also relatively time inefficient, I’m guessing for the same reasons rides within Astoria are inefficient. Rides between Manhattan and LaGuardia are most time efficient, probably because more people travel off-peak to and from the Airport, and there’s more fast travel on a highway.\n",
    "\n",
    "Riders in Astoria see considerably fewer passengers than in Manhattan, but ridership is more consistent and doesn’t see as sharp a drop from 2-6AM as in Manhattan and overall. I’d probably look at days of the week before deciding when to run the service. ~6pm-1am are peak ridership within Astoria, so that’s a great time range to capitalize on. I would also consider looking at late nights on the weekends until the bars close, and try it out on a pilot program. I don’t think i would start out with morning and daytime rides within Astoria, unless service was very limited. \n",
    "\n",
    "I'd provide rides only within Astoria, at least during peak hours, because it's relatively distance-efficient, but I'd need to look at overall ridership and financial information to make that determination. Also, rides from Astoria to Manhattan are among the least time and distance efficient, so I would probably avoid branching out into that area. "
   ]
  },
  {
   "cell_type": "code",
   "execution_count": null,
   "metadata": {
    "collapsed": true
   },
   "outputs": [],
   "source": []
  }
 ],
 "metadata": {
  "anaconda-cloud": {},
  "kernelspec": {
   "display_name": "Python 2",
   "language": "python",
   "name": "python2"
  },
  "language_info": {
   "codemirror_mode": {
    "name": "ipython",
    "version": 2
   },
   "file_extension": ".py",
   "mimetype": "text/x-python",
   "name": "python",
   "nbconvert_exporter": "python",
   "pygments_lexer": "ipython2",
   "version": "2.7.13"
  }
 },
 "nbformat": 4,
 "nbformat_minor": 1
}
